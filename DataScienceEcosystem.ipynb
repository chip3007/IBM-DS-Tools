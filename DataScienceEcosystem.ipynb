{
 "cells": [
  {
   "cell_type": "markdown",
   "id": "af0c23a8",
   "metadata": {},
   "source": [
    "# Data Science Tools and Ecosystem"
   ]
  },
  {
   "cell_type": "markdown",
   "id": "5b60c362",
   "metadata": {},
   "source": [
    "In this notebook, Data Science Tools and Ecosystem are summarized."
   ]
  },
  {
   "cell_type": "markdown",
   "id": "87f38a21",
   "metadata": {},
   "source": [
    "**Objective:**\n",
    "- List popular languages for Data Science.\n",
    "- Identify common data science libraries and frameworks.\n",
    "- Data Science Tools\n",
    "- Examples of evaluating arithmetic expressions in Python"
   ]
  },
  {
   "cell_type": "markdown",
   "id": "2363608f",
   "metadata": {},
   "source": [
    "Some of the popular languages that Data Scientists use are:\n",
    "1. Python\n",
    "2. R\n",
    "3. SQL"
   ]
  },
  {
   "cell_type": "markdown",
   "id": "3d24a4ad",
   "metadata": {},
   "source": [
    "Some of the commonly used libraries used by Data Scientists include:\n",
    "1. NumPy: a library for numerical computing in Python that provides support for arrays, matrices, and complex mathematical functions.\n",
    "2. Pandas: a library for data manipulation and analysis that provides data structures such as DataFrames and Series, which are used to store and manipulate tabular data.\n",
    "3. Matplotlib: a library for creating visualizations in Python, which provides a wide range of plotting functions to create various types of charts and graphs.4. \n",
    "5. Seaborn: a data visualization library based on Matplotlib that provides a high-level interface for creating statistical graphics.\n",
    "6. Scikit-learn: a library for machine learning in Python, which provides a range of algorithms for classification, regression, clustering, and dimensionality reduction.\n",
    "7. TensorFlow: an open-source machine learning library developed by Google, which provides tools for building and training deep neural networks.\n",
    "8. Keras: a high-level neural networks API, written in Python and capable of running on top of TensorFlow, which provides an easy-to-use interface for building and training deep learning models.\n",
    "9. PyTorch: an open-source machine learning library developed by Facebook, which provides a dynamic computation graph and tools for building and training neural networks"
   ]
  },
  {
   "cell_type": "markdown",
   "id": "90904f29",
   "metadata": {},
   "source": [
    "| Data Science Tools |\n",
    "|:--------------------|\n",
    "| R Studio |\n",
    "| Apache Spark |\n",
    "| Apache Hadoop |"
   ]
  },
  {
   "cell_type": "markdown",
   "id": "1224bfca",
   "metadata": {},
   "source": [
    "### Below are a few examples of evaluating arithmetic expressions in Python"
   ]
  },
  {
   "cell_type": "code",
   "execution_count": 6,
   "id": "8dd305dd",
   "metadata": {},
   "outputs": [
    {
     "data": {
      "text/plain": [
       "17"
      ]
     },
     "execution_count": 6,
     "metadata": {},
     "output_type": "execute_result"
    }
   ],
   "source": [
    "# This a simple arithmetic expression to mutiply then add integers\n",
    "(3*4)+5"
   ]
  },
  {
   "cell_type": "code",
   "execution_count": 7,
   "id": "920b0371",
   "metadata": {},
   "outputs": [
    {
     "name": "stdout",
     "output_type": "stream",
     "text": [
      "200 minutes is equal to 3.33 hours.\n"
     ]
    }
   ],
   "source": [
    "# This will convert 200 minutes to hours by diving by 60\n",
    "minutes = 200\n",
    "hours = minutes / 60\n",
    "print(\"200 minutes is equal to\", round(hours,2), \"hours.\")"
   ]
  },
  {
   "cell_type": "markdown",
   "id": "94e8fbc9",
   "metadata": {},
   "source": [
    "## Author\n",
    "Duy Le Van"
   ]
  },
  {
   "cell_type": "code",
   "execution_count": null,
   "id": "fb160cfe",
   "metadata": {},
   "outputs": [],
   "source": []
  }
 ],
 "metadata": {
  "kernelspec": {
   "display_name": "Python 3 (ipykernel)",
   "language": "python",
   "name": "python3"
  },
  "language_info": {
   "codemirror_mode": {
    "name": "ipython",
    "version": 3
   },
   "file_extension": ".py",
   "mimetype": "text/x-python",
   "name": "python",
   "nbconvert_exporter": "python",
   "pygments_lexer": "ipython3",
   "version": "3.10.9"
  }
 },
 "nbformat": 4,
 "nbformat_minor": 5
}
